{
 "cells": [
  {
   "cell_type": "code",
   "execution_count": 1,
   "id": "e88b5dd5",
   "metadata": {
    "scrolled": true
   },
   "outputs": [],
   "source": [
    "import matplotlib.pyplot as plt\n",
    "import seaborn as sns\n",
    "import pandas as pd\n",
    "import numpy as np\n",
    "import tqdm\n",
    "def nop(it, *a, **k):\n",
    "    return it\n",
    "\n",
    "tqdm.tqdm = nop\n",
    "from QUERYLANG import QueryLang, Instances\n",
    "import queries\n",
    "from optimization import get_implication_graph, l0_metric, batch_cfs_generation\n",
    "\n",
    "from tqdm.notebook import tqdm as tqdm_notebook\n",
    "import pickle\n",
    "from sklearn import metrics\n",
    "\n",
    "\n",
    "import warnings\n",
    "warnings.filterwarnings('ignore')"
   ]
  },
  {
   "cell_type": "markdown",
   "id": "7fcc22a6",
   "metadata": {},
   "source": [
    "# Load trained models"
   ]
  },
  {
   "cell_type": "code",
   "execution_count": 2,
   "id": "ed2c9ef1",
   "metadata": {},
   "outputs": [],
   "source": [
    "models_file = 'models/Adult Income/adult_models.pkl'\n",
    "instances_file ='Instances/Adult Income/adult_test_instances.pkl'\n",
    "models = open(models_file, 'rb')\n",
    "instances = open(instances_file, 'rb')\n",
    "models = pickle.load(models)\n",
    "instances = pickle.load(instances)"
   ]
  },
  {
   "cell_type": "markdown",
   "id": "a547be07",
   "metadata": {},
   "source": [
    "# Init CfDB object "
   ]
  },
  {
   "cell_type": "code",
   "execution_count": 3,
   "id": "579608a7",
   "metadata": {},
   "outputs": [],
   "source": [
    "querylang = QueryLang(instances, models)"
   ]
  },
  {
   "cell_type": "markdown",
   "id": "3a74201a",
   "metadata": {},
   "source": [
    "# False Positive predictions"
   ]
  },
  {
   "cell_type": "code",
   "execution_count": 4,
   "id": "d25adda4",
   "metadata": {},
   "outputs": [],
   "source": [
    "prediction_q = ''' \n",
    "SELECT T.PredictionId\n",
    "FROM (\n",
    "    SELECT Predictions.PredictionId , ROW_NUMBER() OVER(PARTITION BY Predictions.ClassifierId) AS rank\n",
    "    FROM Instances, Predictions\n",
    "    WHERE Instances.InstanceId = Predictions.InstanceId\n",
    "      AND Instances.income = 0 and  Predictions.Label = 1\n",
    "      AND Predictions.ClassifierId IN (0,1)) as T\n",
    "WHERE T.rank <= 5\n",
    "'''"
   ]
  },
  {
   "cell_type": "markdown",
   "id": "7d2c3dc0",
   "metadata": {},
   "source": [
    "## CounterFactual View"
   ]
  },
  {
   "cell_type": "code",
   "execution_count": 5,
   "id": "2246e08f",
   "metadata": {},
   "outputs": [
    {
     "name": "stdout",
     "output_type": "stream",
     "text": [
      "Your relations names are: my_cfs_1 and my_prediction_cfs_1\n",
      "Your relations names are: my_cfs_2 and my_prediction_cfs_2\n",
      "Your relations names are: my_cfs_3 and my_prediction_cfs_3\n"
     ]
    }
   ],
   "source": [
    "# counterfactuals that do not change the gender and  the race\n",
    "cfs_q = cfs_query=(queries.AND_NOT,{'features':['gender','race']})\n",
    "\n",
    "querylang.create_cfs_view(cf_type='GrowingSpheresCFs', prediction_query=prediction_q, cfs_query=cfs_q)\n",
    "querylang.create_cfs_view(cf_type='CecCFs', prediction_query=prediction_q, cfs_query=cfs_q)\n",
    "querylang.create_cfs_view(cf_type='DiverseCFs', prediction_query=prediction_q, cfs_query=cfs_q)"
   ]
  },
  {
   "cell_type": "markdown",
   "id": "6ee526ce",
   "metadata": {},
   "source": [
    "## Analysis: CF - L0"
   ]
  },
  {
   "cell_type": "code",
   "execution_count": 6,
   "id": "1196b7a4",
   "metadata": {},
   "outputs": [
    {
     "data": {
      "application/vnd.jupyter.widget-view+json": {
       "model_id": "",
       "version_major": 2,
       "version_minor": 0
      },
      "text/plain": [
       "  0%|          | 0/10 [00:00<?, ?it/s]"
      ]
     },
     "metadata": {},
     "output_type": "display_data"
    },
    {
     "data": {
      "text/html": [
       "<div>\n",
       "<style scoped>\n",
       "    .dataframe tbody tr th:only-of-type {\n",
       "        vertical-align: middle;\n",
       "    }\n",
       "\n",
       "    .dataframe tbody tr th {\n",
       "        vertical-align: top;\n",
       "    }\n",
       "\n",
       "    .dataframe thead th {\n",
       "        text-align: right;\n",
       "    }\n",
       "</style>\n",
       "<table border=\"1\" class=\"dataframe\">\n",
       "  <thead>\n",
       "    <tr style=\"text-align: right;\">\n",
       "      <th></th>\n",
       "      <th>Classifier</th>\n",
       "      <th>L0</th>\n",
       "    </tr>\n",
       "  </thead>\n",
       "  <tbody>\n",
       "    <tr>\n",
       "      <th>0</th>\n",
       "      <td>Random Forest</td>\n",
       "      <td>1.4</td>\n",
       "    </tr>\n",
       "    <tr>\n",
       "      <th>1</th>\n",
       "      <td>Linear</td>\n",
       "      <td>1.8</td>\n",
       "    </tr>\n",
       "  </tbody>\n",
       "</table>\n",
       "</div>"
      ],
      "text/plain": [
       "      Classifier   L0\n",
       "0  Random Forest  1.4\n",
       "1         Linear  1.8"
      ]
     },
     "execution_count": 6,
     "metadata": {},
     "output_type": "execute_result"
    }
   ],
   "source": [
    "suffix = 1\n",
    "Q = f''' \n",
    "SELECT ClassifierId, AVG(L0) as L0\n",
    "FROM (\n",
    "    SELECT ClassifierId, my_cfs_{suffix}.CfId , COUNT(*) AS L0\n",
    "    FROM  my_cfs_{suffix}, my_prediction_cfs_{suffix}, Predictions\n",
    "    WHERE my_cfs_{suffix}.CfId = my_prediction_cfs_{suffix}.CfId \n",
    "      AND my_prediction_cfs_{suffix}.PredictionId = Predictions.PredictionId\n",
    "      GROUP BY ClassifierId, my_cfs_{suffix}.CfId ) AS T\n",
    "GROUP BY ClassifierId\n",
    "'''\n",
    "\n",
    "df = querylang.execute(Q, parallel=False).replace({'ClassifierId':{0:'Random Forest', 1:'Linear'}})\n",
    "df.rename(columns = {'ClassifierId':'Classifier'})"
   ]
  },
  {
   "cell_type": "markdown",
   "id": "30612e4a",
   "metadata": {},
   "source": [
    "# CFs"
   ]
  },
  {
   "cell_type": "code",
   "execution_count": 7,
   "id": "08309076",
   "metadata": {},
   "outputs": [
    {
     "data": {
      "text/html": [
       "<style type=\"text/css\">\n",
       "#T_220ab_row0_col1, #T_220ab_row1_col1, #T_220ab_row1_col6, #T_220ab_row2_col1, #T_220ab_row3_col4, #T_220ab_row4_col1, #T_220ab_row4_col4, #T_220ab_row5_col3, #T_220ab_row6_col3, #T_220ab_row7_col1, #T_220ab_row7_col4, #T_220ab_row7_col6, #T_220ab_row8_col1, #T_220ab_row9_col1, #T_220ab_row9_col4, #T_220ab_row9_col6 {\n",
       "  background-color: orange;\n",
       "}\n",
       "</style>\n",
       "<table id=\"T_220ab\">\n",
       "  <thead>\n",
       "    <tr>\n",
       "      <th class=\"blank level0\" >&nbsp;</th>\n",
       "      <th id=\"T_220ab_level0_col0\" class=\"col_heading level0 col0\" >CfId</th>\n",
       "      <th id=\"T_220ab_level0_col1\" class=\"col_heading level0 col1\" >education</th>\n",
       "      <th id=\"T_220ab_level0_col2\" class=\"col_heading level0 col2\" >gender</th>\n",
       "      <th id=\"T_220ab_level0_col3\" class=\"col_heading level0 col3\" >marital_status</th>\n",
       "      <th id=\"T_220ab_level0_col4\" class=\"col_heading level0 col4\" >occupation</th>\n",
       "      <th id=\"T_220ab_level0_col5\" class=\"col_heading level0 col5\" >race</th>\n",
       "      <th id=\"T_220ab_level0_col6\" class=\"col_heading level0 col6\" >workclass</th>\n",
       "      <th id=\"T_220ab_level0_col7\" class=\"col_heading level0 col7\" >age</th>\n",
       "      <th id=\"T_220ab_level0_col8\" class=\"col_heading level0 col8\" >hours_per_week</th>\n",
       "    </tr>\n",
       "  </thead>\n",
       "  <tbody>\n",
       "    <tr>\n",
       "      <th id=\"T_220ab_level0_row0\" class=\"row_heading level0 row0\" >0</th>\n",
       "      <td id=\"T_220ab_row0_col0\" class=\"data row0 col0\" >1</td>\n",
       "      <td id=\"T_220ab_row0_col1\" class=\"data row0 col1\" >Some-college</td>\n",
       "      <td id=\"T_220ab_row0_col2\" class=\"data row0 col2\" >Male</td>\n",
       "      <td id=\"T_220ab_row0_col3\" class=\"data row0 col3\" >Married</td>\n",
       "      <td id=\"T_220ab_row0_col4\" class=\"data row0 col4\" >Professional</td>\n",
       "      <td id=\"T_220ab_row0_col5\" class=\"data row0 col5\" >White</td>\n",
       "      <td id=\"T_220ab_row0_col6\" class=\"data row0 col6\" >Private</td>\n",
       "      <td id=\"T_220ab_row0_col7\" class=\"data row0 col7\" >46</td>\n",
       "      <td id=\"T_220ab_row0_col8\" class=\"data row0 col8\" >41</td>\n",
       "    </tr>\n",
       "    <tr>\n",
       "      <th id=\"T_220ab_level0_row1\" class=\"row_heading level0 row1\" >1</th>\n",
       "      <td id=\"T_220ab_row1_col0\" class=\"data row1 col0\" >2</td>\n",
       "      <td id=\"T_220ab_row1_col1\" class=\"data row1 col1\" >Some-college</td>\n",
       "      <td id=\"T_220ab_row1_col2\" class=\"data row1 col2\" >Male</td>\n",
       "      <td id=\"T_220ab_row1_col3\" class=\"data row1 col3\" >Married</td>\n",
       "      <td id=\"T_220ab_row1_col4\" class=\"data row1 col4\" >Professional</td>\n",
       "      <td id=\"T_220ab_row1_col5\" class=\"data row1 col5\" >White</td>\n",
       "      <td id=\"T_220ab_row1_col6\" class=\"data row1 col6\" >Private</td>\n",
       "      <td id=\"T_220ab_row1_col7\" class=\"data row1 col7\" >51</td>\n",
       "      <td id=\"T_220ab_row1_col8\" class=\"data row1 col8\" >45</td>\n",
       "    </tr>\n",
       "    <tr>\n",
       "      <th id=\"T_220ab_level0_row2\" class=\"row_heading level0 row2\" >2</th>\n",
       "      <td id=\"T_220ab_row2_col0\" class=\"data row2 col0\" >3</td>\n",
       "      <td id=\"T_220ab_row2_col1\" class=\"data row2 col1\" >HS-grad</td>\n",
       "      <td id=\"T_220ab_row2_col2\" class=\"data row2 col2\" >Male</td>\n",
       "      <td id=\"T_220ab_row2_col3\" class=\"data row2 col3\" >Married</td>\n",
       "      <td id=\"T_220ab_row2_col4\" class=\"data row2 col4\" >Sales</td>\n",
       "      <td id=\"T_220ab_row2_col5\" class=\"data row2 col5\" >White</td>\n",
       "      <td id=\"T_220ab_row2_col6\" class=\"data row2 col6\" >Private</td>\n",
       "      <td id=\"T_220ab_row2_col7\" class=\"data row2 col7\" >45</td>\n",
       "      <td id=\"T_220ab_row2_col8\" class=\"data row2 col8\" >55</td>\n",
       "    </tr>\n",
       "    <tr>\n",
       "      <th id=\"T_220ab_level0_row3\" class=\"row_heading level0 row3\" >3</th>\n",
       "      <td id=\"T_220ab_row3_col0\" class=\"data row3 col0\" >4</td>\n",
       "      <td id=\"T_220ab_row3_col1\" class=\"data row3 col1\" >Some-college</td>\n",
       "      <td id=\"T_220ab_row3_col2\" class=\"data row3 col2\" >Male</td>\n",
       "      <td id=\"T_220ab_row3_col3\" class=\"data row3 col3\" >Married</td>\n",
       "      <td id=\"T_220ab_row3_col4\" class=\"data row3 col4\" >Blue-Collar</td>\n",
       "      <td id=\"T_220ab_row3_col5\" class=\"data row3 col5\" >White</td>\n",
       "      <td id=\"T_220ab_row3_col6\" class=\"data row3 col6\" >Self-Employed</td>\n",
       "      <td id=\"T_220ab_row3_col7\" class=\"data row3 col7\" >54</td>\n",
       "      <td id=\"T_220ab_row3_col8\" class=\"data row3 col8\" >50</td>\n",
       "    </tr>\n",
       "    <tr>\n",
       "      <th id=\"T_220ab_level0_row4\" class=\"row_heading level0 row4\" >4</th>\n",
       "      <td id=\"T_220ab_row4_col0\" class=\"data row4 col0\" >5</td>\n",
       "      <td id=\"T_220ab_row4_col1\" class=\"data row4 col1\" >Assoc</td>\n",
       "      <td id=\"T_220ab_row4_col2\" class=\"data row4 col2\" >Male</td>\n",
       "      <td id=\"T_220ab_row4_col3\" class=\"data row4 col3\" >Married</td>\n",
       "      <td id=\"T_220ab_row4_col4\" class=\"data row4 col4\" >Blue-Collar</td>\n",
       "      <td id=\"T_220ab_row4_col5\" class=\"data row4 col5\" >White</td>\n",
       "      <td id=\"T_220ab_row4_col6\" class=\"data row4 col6\" >Self-Employed</td>\n",
       "      <td id=\"T_220ab_row4_col7\" class=\"data row4 col7\" >61</td>\n",
       "      <td id=\"T_220ab_row4_col8\" class=\"data row4 col8\" >50</td>\n",
       "    </tr>\n",
       "    <tr>\n",
       "      <th id=\"T_220ab_level0_row5\" class=\"row_heading level0 row5\" >5</th>\n",
       "      <td id=\"T_220ab_row5_col0\" class=\"data row5 col0\" >6</td>\n",
       "      <td id=\"T_220ab_row5_col1\" class=\"data row5 col1\" >Masters</td>\n",
       "      <td id=\"T_220ab_row5_col2\" class=\"data row5 col2\" >Male</td>\n",
       "      <td id=\"T_220ab_row5_col3\" class=\"data row5 col3\" >Separated</td>\n",
       "      <td id=\"T_220ab_row5_col4\" class=\"data row5 col4\" >Professional</td>\n",
       "      <td id=\"T_220ab_row5_col5\" class=\"data row5 col5\" >White</td>\n",
       "      <td id=\"T_220ab_row5_col6\" class=\"data row5 col6\" >Private</td>\n",
       "      <td id=\"T_220ab_row5_col7\" class=\"data row5 col7\" >46</td>\n",
       "      <td id=\"T_220ab_row5_col8\" class=\"data row5 col8\" >41</td>\n",
       "    </tr>\n",
       "    <tr>\n",
       "      <th id=\"T_220ab_level0_row6\" class=\"row_heading level0 row6\" >6</th>\n",
       "      <td id=\"T_220ab_row6_col0\" class=\"data row6 col0\" >7</td>\n",
       "      <td id=\"T_220ab_row6_col1\" class=\"data row6 col1\" >Bachelors</td>\n",
       "      <td id=\"T_220ab_row6_col2\" class=\"data row6 col2\" >Male</td>\n",
       "      <td id=\"T_220ab_row6_col3\" class=\"data row6 col3\" >Divorced</td>\n",
       "      <td id=\"T_220ab_row6_col4\" class=\"data row6 col4\" >Other/Unknown</td>\n",
       "      <td id=\"T_220ab_row6_col5\" class=\"data row6 col5\" >White</td>\n",
       "      <td id=\"T_220ab_row6_col6\" class=\"data row6 col6\" >Other/Unknown</td>\n",
       "      <td id=\"T_220ab_row6_col7\" class=\"data row6 col7\" >63</td>\n",
       "      <td id=\"T_220ab_row6_col8\" class=\"data row6 col8\" >40</td>\n",
       "    </tr>\n",
       "    <tr>\n",
       "      <th id=\"T_220ab_level0_row7\" class=\"row_heading level0 row7\" >7</th>\n",
       "      <td id=\"T_220ab_row7_col0\" class=\"data row7 col0\" >8</td>\n",
       "      <td id=\"T_220ab_row7_col1\" class=\"data row7 col1\" >Some-college</td>\n",
       "      <td id=\"T_220ab_row7_col2\" class=\"data row7 col2\" >Male</td>\n",
       "      <td id=\"T_220ab_row7_col3\" class=\"data row7 col3\" >Married</td>\n",
       "      <td id=\"T_220ab_row7_col4\" class=\"data row7 col4\" >Service</td>\n",
       "      <td id=\"T_220ab_row7_col5\" class=\"data row7 col5\" >White</td>\n",
       "      <td id=\"T_220ab_row7_col6\" class=\"data row7 col6\" >Private</td>\n",
       "      <td id=\"T_220ab_row7_col7\" class=\"data row7 col7\" >51</td>\n",
       "      <td id=\"T_220ab_row7_col8\" class=\"data row7 col8\" >45</td>\n",
       "    </tr>\n",
       "    <tr>\n",
       "      <th id=\"T_220ab_level0_row8\" class=\"row_heading level0 row8\" >8</th>\n",
       "      <td id=\"T_220ab_row8_col0\" class=\"data row8 col0\" >9</td>\n",
       "      <td id=\"T_220ab_row8_col1\" class=\"data row8 col1\" >School</td>\n",
       "      <td id=\"T_220ab_row8_col2\" class=\"data row8 col2\" >Female</td>\n",
       "      <td id=\"T_220ab_row8_col3\" class=\"data row8 col3\" >Single</td>\n",
       "      <td id=\"T_220ab_row8_col4\" class=\"data row8 col4\" >Professional</td>\n",
       "      <td id=\"T_220ab_row8_col5\" class=\"data row8 col5\" >White</td>\n",
       "      <td id=\"T_220ab_row8_col6\" class=\"data row8 col6\" >Government</td>\n",
       "      <td id=\"T_220ab_row8_col7\" class=\"data row8 col7\" >24</td>\n",
       "      <td id=\"T_220ab_row8_col8\" class=\"data row8 col8\" >99</td>\n",
       "    </tr>\n",
       "    <tr>\n",
       "      <th id=\"T_220ab_level0_row9\" class=\"row_heading level0 row9\" >9</th>\n",
       "      <td id=\"T_220ab_row9_col0\" class=\"data row9 col0\" >10</td>\n",
       "      <td id=\"T_220ab_row9_col1\" class=\"data row9 col1\" >HS-grad</td>\n",
       "      <td id=\"T_220ab_row9_col2\" class=\"data row9 col2\" >Male</td>\n",
       "      <td id=\"T_220ab_row9_col3\" class=\"data row9 col3\" >Married</td>\n",
       "      <td id=\"T_220ab_row9_col4\" class=\"data row9 col4\" >Service</td>\n",
       "      <td id=\"T_220ab_row9_col5\" class=\"data row9 col5\" >White</td>\n",
       "      <td id=\"T_220ab_row9_col6\" class=\"data row9 col6\" >Government</td>\n",
       "      <td id=\"T_220ab_row9_col7\" class=\"data row9 col7\" >56</td>\n",
       "      <td id=\"T_220ab_row9_col8\" class=\"data row9 col8\" >40</td>\n",
       "    </tr>\n",
       "  </tbody>\n",
       "</table>\n"
      ],
      "text/plain": [
       "<pandas.io.formats.style.Styler at 0x1c088284100>"
      ]
     },
     "execution_count": 7,
     "metadata": {},
     "output_type": "execute_result"
    }
   ],
   "source": [
    "Q = f'''\n",
    "SELECT distinct CfId\n",
    "FROM my_cfs_{suffix}\n",
    "'''\n",
    "cf_ids = querylang.execute(Q,parallel=False).values.reshape(-1)\n",
    "querylang.reconstruct(cf_ids)"
   ]
  },
  {
   "cell_type": "markdown",
   "id": "44af9ad4",
   "metadata": {},
   "source": [
    "# EFFICIENT EVALUATION - for CeC and Random Forest"
   ]
  },
  {
   "cell_type": "code",
   "execution_count": 8,
   "id": "76adaa50",
   "metadata": {},
   "outputs": [],
   "source": [
    "prediction_efficient = ''' \n",
    "SELECT Predictions.PredictionId\n",
    "    FROM Instances, Predictions\n",
    "    WHERE Instances.InstanceId = Predictions.InstanceId\n",
    "      AND Instances.income = 0 and  Predictions.Label = 1\n",
    "      AND Predictions.ClassifierId = 0\n",
    "LIMIT 5\n",
    "'''\n",
    "\n",
    "cf_alg = querylang.CF_generations['CecCFs'][0]\n",
    "encoder = querylang.models[0][1]"
   ]
  },
  {
   "cell_type": "code",
   "execution_count": 9,
   "id": "984bef87",
   "metadata": {},
   "outputs": [
    {
     "name": "stdout",
     "output_type": "stream",
     "text": [
      "Your relations names are: my_cfs_4 and my_prediction_cfs_4\n",
      "Your relations names are: my_cfs_5 and my_prediction_cfs_5\n"
     ]
    }
   ],
   "source": [
    "#A query looking for CFs that change gender and race.\n",
    "cfs_q1 = cfs_query=(queries.AND,{'features':['gender','race']})\n",
    "#A query looking for CFs that change gender or race.\n",
    "cfs_q2 = cfs_query=(queries.OR,{'features':['gender','race']})\n",
    "\n",
    "querylang.create_cfs_view(cf_type='CecCFs', prediction_query=prediction_q, cfs_query=cfs_q1)\n",
    "querylang.create_cfs_view(cf_type='CecCFs', prediction_query=prediction_q, cfs_query=cfs_q2)"
   ]
  },
  {
   "cell_type": "code",
   "execution_count": 10,
   "id": "1d3f5f53",
   "metadata": {},
   "outputs": [
    {
     "data": {
      "application/vnd.jupyter.widget-view+json": {
       "model_id": "",
       "version_major": 2,
       "version_minor": 0
      },
      "text/plain": [
       "  0%|          | 0/12 [00:00<?, ?it/s]"
      ]
     },
     "metadata": {},
     "output_type": "display_data"
    },
    {
     "data": {
      "application/vnd.jupyter.widget-view+json": {
       "model_id": "",
       "version_major": 2,
       "version_minor": 0
      },
      "text/plain": [
       "  0%|          | 0/5 [00:00<?, ?it/s]"
      ]
     },
     "metadata": {},
     "output_type": "display_data"
    },
    {
     "data": {
      "text/html": [
       "<div>\n",
       "<style scoped>\n",
       "    .dataframe tbody tr th:only-of-type {\n",
       "        vertical-align: middle;\n",
       "    }\n",
       "\n",
       "    .dataframe tbody tr th {\n",
       "        vertical-align: top;\n",
       "    }\n",
       "\n",
       "    .dataframe thead th {\n",
       "        text-align: right;\n",
       "    }\n",
       "</style>\n",
       "<table border=\"1\" class=\"dataframe\">\n",
       "  <thead>\n",
       "    <tr style=\"text-align: right;\">\n",
       "      <th></th>\n",
       "      <th>education</th>\n",
       "      <th>gender</th>\n",
       "      <th>marital_status</th>\n",
       "      <th>occupation</th>\n",
       "      <th>race</th>\n",
       "      <th>workclass</th>\n",
       "      <th>age</th>\n",
       "      <th>hours_per_week</th>\n",
       "    </tr>\n",
       "  </thead>\n",
       "  <tbody>\n",
       "    <tr>\n",
       "      <th>0</th>\n",
       "      <td>Bachelors</td>\n",
       "      <td>Female</td>\n",
       "      <td>Separated</td>\n",
       "      <td>Sales</td>\n",
       "      <td>Other</td>\n",
       "      <td>Private</td>\n",
       "      <td>45</td>\n",
       "      <td>55</td>\n",
       "    </tr>\n",
       "  </tbody>\n",
       "</table>\n",
       "</div>"
      ],
      "text/plain": [
       "   education  gender marital_status occupation   race workclass  age  \\\n",
       "0  Bachelors  Female      Separated      Sales  Other   Private   45   \n",
       "\n",
       "   hours_per_week  \n",
       "0              55  "
      ]
     },
     "execution_count": 10,
     "metadata": {},
     "output_type": "execute_result"
    }
   ],
   "source": [
    "Q = \"\"\" \n",
    "SELECT * FROM  my_cfs_4\n",
    "\n",
    "UNION\n",
    "\n",
    "SELECT * FROM  my_cfs_5\n",
    "\"\"\"\n",
    "\n",
    "expressions = querylang.get_expressions(Q)\n",
    "implication_graph = get_implication_graph(encoder, expressions, is_hashing=True,is_atom_implication=True)\n",
    "cf_map, cfs = batch_cfs_generation(implication_graph ,l0_metric, 5, querylang, cf_alg)\n",
    "# (4,68), i.e., view 4 and prediction identify by 68\n",
    "cfs[cf_map[(4,68)]]"
   ]
  }
 ],
 "metadata": {
  "kernelspec": {
   "display_name": "Python 3 (ipykernel)",
   "language": "python",
   "name": "python3"
  },
  "language_info": {
   "codemirror_mode": {
    "name": "ipython",
    "version": 3
   },
   "file_extension": ".py",
   "mimetype": "text/x-python",
   "name": "python",
   "nbconvert_exporter": "python",
   "pygments_lexer": "ipython3",
   "version": "3.9.7"
  }
 },
 "nbformat": 4,
 "nbformat_minor": 5
}
